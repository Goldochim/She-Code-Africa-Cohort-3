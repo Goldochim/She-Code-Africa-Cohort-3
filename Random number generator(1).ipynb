{
 "cells": [
  {
   "cell_type": "markdown",
   "metadata": {},
   "source": [
    "# Number Guessing Game"
   ]
  },
  {
   "cell_type": "markdown",
   "metadata": {},
   "source": [
    "Summary:\n",
    "The computer generates a random number and the user guesses which number the computer selects. If the user mentions some other number other than what the computer selects, the user gets a hint from the computer on the range of numbers to select from untill the guess is right."
   ]
  },
  {
   "cell_type": "code",
   "execution_count": 1,
   "metadata": {},
   "outputs": [],
   "source": [
    "import random"
   ]
  },
  {
   "cell_type": "code",
   "execution_count": null,
   "metadata": {},
   "outputs": [],
   "source": [
    "#setting boundaries on the number the computer selects. Setting it to be between one and 20."
   ]
  },
  {
   "cell_type": "code",
   "execution_count": 2,
   "metadata": {},
   "outputs": [],
   "source": [
    "number=random.randint(1, 20)\n"
   ]
  },
  {
   "cell_type": "code",
   "execution_count": 3,
   "metadata": {},
   "outputs": [
    {
     "name": "stdout",
     "output_type": "stream",
     "text": [
      "Welcome to the Number Game.\n",
      "Guess a number from 1 to 20\n"
     ]
    }
   ],
   "source": [
    "print('Welcome to the Number Game.')\n",
    "print('Guess a number from 1 to 20')"
   ]
  },
  {
   "cell_type": "code",
   "execution_count": null,
   "metadata": {},
   "outputs": [],
   "source": [
    "#initialising the value the user is to select to be empty"
   ]
  },
  {
   "cell_type": "code",
   "execution_count": 4,
   "metadata": {},
   "outputs": [],
   "source": [
    "guess=None"
   ]
  },
  {
   "cell_type": "code",
   "execution_count": null,
   "metadata": {},
   "outputs": [],
   "source": [
    "#Settting the condition for the computer to keep re-running the process of \n",
    "#allowing the user re-enter numbers untill the user guesses correctly.\n",
    "#if the user guesses the number out of the range 1 to 20, the computer alerts\n",
    "#the user asks the user to enter another number.\n",
    "#The computer gives the user clues on the range of numbers to choose from after\n",
    "#guessing a number that is incorrect."
   ]
  },
  {
   "cell_type": "code",
   "execution_count": 5,
   "metadata": {},
   "outputs": [
    {
     "name": "stdout",
     "output_type": "stream",
     "text": [
      "Your try:23\n",
      "Please only select numbers between 1 and 20. 1 and 20 inclusive!\n",
      "Your try:134\n",
      "Please only select numbers between 1 and 20. 1 and 20 inclusive!\n",
      "Your try:-4\n",
      "Please only select numbers between 1 and 20. 1 and 20 inclusive!\n",
      "Your try:12\n",
      "Number selected is too high. Select something lower\n",
      "Your try:11\n",
      "Number selected is too high. Select something lower\n",
      "Your try:9\n",
      "Number selected is too high. Select something lower\n",
      "Your try:10\n",
      "Number selected is too high. Select something lower\n",
      "Your try:8\n",
      "Number selected is too high. Select something lower\n",
      "Your try:7\n",
      "Number selected is too high. Select something lower\n",
      "Your try:6\n",
      "Number selected is too high. Select something lower\n",
      "Your try:5\n",
      "Number selected is too high. Select something lower\n",
      "Your try:4\n",
      "Congratulations! Your guess was right!\n"
     ]
    }
   ],
   "source": [
    "while guess!=number:\n",
    "    guess=int(input('Your try:'))        \n",
    "    if guess>20 or guess<1:\n",
    "        print('Please only select numbers between 1 and 20. 1 and 20 inclusive!')\n",
    "    else:\n",
    "        if guess>number:\n",
    "            print('Number selected is too high. Select something lower')\n",
    "        elif guess<number:\n",
    "            print('Number selected is too low. Select something higher')\n",
    "\n",
    "print('Congratulations! Your guess was right!')"
   ]
  }
 ],
 "metadata": {
  "kernelspec": {
   "display_name": "Python 3",
   "language": "python",
   "name": "python3"
  },
  "language_info": {
   "codemirror_mode": {
    "name": "ipython",
    "version": 3
   },
   "file_extension": ".py",
   "mimetype": "text/x-python",
   "name": "python",
   "nbconvert_exporter": "python",
   "pygments_lexer": "ipython3",
   "version": "3.8.3"
  }
 },
 "nbformat": 4,
 "nbformat_minor": 4
}
